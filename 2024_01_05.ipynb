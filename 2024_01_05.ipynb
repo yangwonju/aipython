{
  "nbformat": 4,
  "nbformat_minor": 0,
  "metadata": {
    "colab": {
      "provenance": [],
      "authorship_tag": "ABX9TyMSYfjnnmmR9tOrYTAF3apn",
      "include_colab_link": true
    },
    "kernelspec": {
      "name": "python3",
      "display_name": "Python 3"
    },
    "language_info": {
      "name": "python"
    }
  },
  "cells": [
    {
      "cell_type": "markdown",
      "metadata": {
        "id": "view-in-github",
        "colab_type": "text"
      },
      "source": [
        "<a href=\"https://colab.research.google.com/github/yangwonju/aipython/blob/main/2024_01_05.ipynb\" target=\"_parent\"><img src=\"https://colab.research.google.com/assets/colab-badge.svg\" alt=\"Open In Colab\"/></a>"
      ]
    },
    {
      "cell_type": "code",
      "execution_count": 5,
      "metadata": {
        "colab": {
          "base_uri": "https://localhost:8080/"
        },
        "id": "kfeh0SEOPE4E",
        "outputId": "390ecac4-6a44-4f69-8803-bba8066d9430"
      },
      "outputs": [
        {
          "output_type": "stream",
          "name": "stdout",
          "text": [
            "John 30 Engineer\n",
            "Alice 25 Designer\n"
          ]
        }
      ],
      "source": [
        "data = \"John,30,Engineer/nAlice,25,Designer\"\n",
        "lines = data.split(\"/n\")\n",
        "\n",
        "for line in lines:\n",
        "  fields = line.split(',')\n",
        "  print(fields[0],fields[1],fields[2])"
      ]
    },
    {
      "cell_type": "code",
      "source": [
        "words = ['Hello','World','this','is','a','test']\n",
        "sentence = ' '.join(words)\n",
        "print(sentence)"
      ],
      "metadata": {
        "colab": {
          "base_uri": "https://localhost:8080/"
        },
        "id": "anfZq0sNPgjX",
        "outputId": "50cb28fc-2a6c-4b3c-b7fa-1d918d5f1945"
      },
      "execution_count": 4,
      "outputs": [
        {
          "output_type": "stream",
          "name": "stdout",
          "text": [
            "Hello World this is a test\n"
          ]
        }
      ]
    },
    {
      "cell_type": "code",
      "source": [
        "input = \"Geeks for Geeks\"\n",
        "print(input.split(\" \"))"
      ],
      "metadata": {
        "colab": {
          "base_uri": "https://localhost:8080/"
        },
        "id": "qDqKeFXFQ7HO",
        "outputId": "dbd0f161-0f58-4d30-cfc6-366729dea99c"
      },
      "execution_count": 9,
      "outputs": [
        {
          "output_type": "stream",
          "name": "stdout",
          "text": [
            "['Geeks', 'for', 'Geeks']\n"
          ]
        }
      ]
    },
    {
      "cell_type": "code",
      "source": [
        "data = map(str,input().split())\n",
        "print(list(data))"
      ],
      "metadata": {
        "colab": {
          "base_uri": "https://localhost:8080/"
        },
        "id": "Z-lpvmoHP3y4",
        "outputId": "1f9c7284-5392-4095-c988-b52997ca00dd"
      },
      "execution_count": 7,
      "outputs": [
        {
          "output_type": "stream",
          "name": "stdout",
          "text": [
            "Geeks for Geeks\n",
            "['Geeks', 'for', 'Geeks']\n"
          ]
        }
      ]
    },
    {
      "cell_type": "code",
      "source": [
        "input = ['Geeks','for','Geeks']\n",
        "sentence = \"-\".join(input)\n",
        "print(sentence)"
      ],
      "metadata": {
        "colab": {
          "base_uri": "https://localhost:8080/"
        },
        "id": "hTj5yeL-QQLO",
        "outputId": "49cb7261-9319-42c0-ec6f-dfb913a992d3"
      },
      "execution_count": 8,
      "outputs": [
        {
          "output_type": "stream",
          "name": "stdout",
          "text": [
            "Geeks-for-Geeks\n"
          ]
        }
      ]
    },
    {
      "cell_type": "code",
      "source": [
        "list = [x**2 for x in range(1,6,1)]\n",
        "print(list)\n",
        "list2 = [x**2 for x in range(1,6,1) if x%2==0]\n",
        "print(list2)\n",
        "lisat = [x**2 for x in range(1,21,1) if x%3==0]\n",
        "print(lisat)"
      ],
      "metadata": {
        "colab": {
          "base_uri": "https://localhost:8080/"
        },
        "id": "ysAWUKU5R_LO",
        "outputId": "1e96ec4b-0776-44cc-c033-287adfff8898"
      },
      "execution_count": 12,
      "outputs": [
        {
          "output_type": "stream",
          "name": "stdout",
          "text": [
            "[1, 4, 9, 16, 25]\n",
            "[4, 16]\n"
          ]
        }
      ]
    },
    {
      "cell_type": "code",
      "source": [
        "a = ['Seoul', 'New york', 'London', 'Shanghai', 'Paris', 'Tokyo']\n",
        "\n",
        "result = [city for city in a if 'S'in city]\n",
        "print(result)\n"
      ],
      "metadata": {
        "colab": {
          "base_uri": "https://localhost:8080/"
        },
        "id": "roz2OUNbSzWe",
        "outputId": "6b174762-03b3-492b-ea67-9b0b2f88158f"
      },
      "execution_count": 20,
      "outputs": [
        {
          "output_type": "stream",
          "name": "stdout",
          "text": [
            "['Seoul', 'Shanghai']\n"
          ]
        }
      ]
    },
    {
      "cell_type": "code",
      "source": [
        "fruits = ['a','b','c']\n",
        "for i,fruit in enumerate(fruits,start=1):\n",
        "  print(i,fruit)\n"
      ],
      "metadata": {
        "colab": {
          "base_uri": "https://localhost:8080/"
        },
        "id": "CZ1lfhgPWRT_",
        "outputId": "1f411d09-7c04-451e-f8eb-7055bab1e627"
      },
      "execution_count": 29,
      "outputs": [
        {
          "output_type": "stream",
          "name": "stdout",
          "text": [
            "1 a\n",
            "2 b\n",
            "3 c\n"
          ]
        }
      ]
    },
    {
      "cell_type": "code",
      "source": [
        "x = ['a','b','c']\n",
        "for i,fruit in enumerate(fruits):\n",
        "  print('fruit',i,sep='',end='')\n",
        "  print(\" name is\",fruit)"
      ],
      "metadata": {
        "colab": {
          "base_uri": "https://localhost:8080/"
        },
        "id": "xV1HoqQtWwbX",
        "outputId": "3ada1a48-cf73-4919-9cbb-f02648e55ebe"
      },
      "execution_count": 28,
      "outputs": [
        {
          "output_type": "stream",
          "name": "stdout",
          "text": [
            "fruit0 name is a\n",
            "fruit1 name is b\n",
            "fruit2 name is c\n"
          ]
        }
      ]
    },
    {
      "cell_type": "code",
      "source": [
        "names = [\"John\",\"Jane\",\"Doe\"]\n",
        "ages = [25,30,35]\n",
        "\n",
        "for name,age in zip(names,ages):\n",
        "   print(f\"{name} is {age} years old.\")"
      ],
      "metadata": {
        "colab": {
          "base_uri": "https://localhost:8080/"
        },
        "id": "NraQyISjZFuW",
        "outputId": "ce9a9d27-6b4d-4746-f325-85b0f53e0336"
      },
      "execution_count": 34,
      "outputs": [
        {
          "output_type": "stream",
          "name": "stdout",
          "text": [
            "John is 25 years old.\n",
            "Jane is 30 years old.\n",
            "Doe is 35 years old.\n"
          ]
        }
      ]
    },
    {
      "cell_type": "code",
      "source": [
        "names = [\"M\",\"N\",\"S\",\"A\"]\n",
        "roll_no = [4,1,3,2]\n",
        "aa = set(zip(names,roll_no))\n",
        "print(aa)"
      ],
      "metadata": {
        "colab": {
          "base_uri": "https://localhost:8080/"
        },
        "id": "SQOc7gZZaKkf",
        "outputId": "d11c5e19-29f8-4624-9e55-53c0b791dc56"
      },
      "execution_count": 38,
      "outputs": [
        {
          "output_type": "stream",
          "name": "stdout",
          "text": [
            "{('S', 3), ('M', 4), ('A', 2), ('N', 1)}\n"
          ]
        }
      ]
    },
    {
      "cell_type": "code",
      "source": [
        "names = ['M','R','C']\n",
        "ages = [24,50,18]\n",
        "\n",
        "result = list(enumerate(zip(names, ages)))\n",
        "\n",
        "for index, (name, age) in result:\n",
        "    print(index, name, age)\n"
      ],
      "metadata": {
        "colab": {
          "base_uri": "https://localhost:8080/"
        },
        "id": "9QBciajSbJh2",
        "outputId": "b8150555-9930-4213-ddb2-77f15b65f325"
      },
      "execution_count": 9,
      "outputs": [
        {
          "output_type": "stream",
          "name": "stdout",
          "text": [
            "0 M 24\n",
            "1 R 50\n",
            "2 C 18\n"
          ]
        }
      ]
    },
    {
      "cell_type": "code",
      "source": [
        "add = lambda x,y:x+y\n",
        "num1 = [4,5,6]\n",
        "num2 = [7,8,9]\n",
        "ss = list(map(add,num1,num2))\n",
        "print(ss)"
      ],
      "metadata": {
        "colab": {
          "base_uri": "https://localhost:8080/"
        },
        "id": "aLQVRa0JeTom",
        "outputId": "9c7d7f4a-78ee-42f4-ebb9-fcab3a4881e1"
      },
      "execution_count": 18,
      "outputs": [
        {
          "output_type": "stream",
          "name": "stdout",
          "text": [
            "[11, 13, 15]\n"
          ]
        }
      ]
    }
  ]
}