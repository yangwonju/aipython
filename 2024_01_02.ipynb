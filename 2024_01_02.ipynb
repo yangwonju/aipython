{
  "nbformat": 4,
  "nbformat_minor": 0,
  "metadata": {
    "colab": {
      "provenance": [],
      "authorship_tag": "ABX9TyPP9kdYP0bmqY+BT45UQb/8",
      "include_colab_link": true
    },
    "kernelspec": {
      "name": "python3",
      "display_name": "Python 3"
    },
    "language_info": {
      "name": "python"
    }
  },
  "cells": [
    {
      "cell_type": "markdown",
      "metadata": {
        "id": "view-in-github",
        "colab_type": "text"
      },
      "source": [
        "<a href=\"https://colab.research.google.com/github/yangwonju/aipython/blob/main/2024_01_02.ipynb\" target=\"_parent\"><img src=\"https://colab.research.google.com/assets/colab-badge.svg\" alt=\"Open In Colab\"/></a>"
      ]
    },
    {
      "cell_type": "code",
      "execution_count": 20,
      "metadata": {
        "colab": {
          "base_uri": "https://localhost:8080/"
        },
        "id": "Q_pBktpX_wPO",
        "outputId": "54b1820a-d393-47e5-c230-9351ca600642"
      },
      "outputs": [
        {
          "output_type": "stream",
          "name": "stdout",
          "text": [
            "우리가 수업하는 실습실:\n",
            "105\n"
          ]
        }
      ],
      "source": [
        "##2-6\n",
        "Lab = 105\n",
        "print('우리가 수업하는 실습실:')\n",
        "print(Lab)"
      ]
    },
    {
      "cell_type": "code",
      "source": [
        "#2-7\n",
        "Lab = 105\n",
        "print('우리가 수업하는 실습실:')\n",
        "print(Lab)"
      ],
      "metadata": {
        "colab": {
          "base_uri": "https://localhost:8080/"
        },
        "id": "ZHWE31FdBIaK",
        "outputId": "4c14f443-41b1-4312-a731-026a92346a04"
      },
      "execution_count": null,
      "outputs": [
        {
          "output_type": "stream",
          "name": "stdout",
          "text": [
            "우리가 수업하는 실습실:\n",
            "105\n"
          ]
        }
      ]
    },
    {
      "cell_type": "code",
      "source": [
        "# 2-8\n",
        "my_id = 20150001\n",
        "grade = 1\n",
        "print('나의 학번: ')\n",
        "print(my_id)\n",
        "print('학년: ')\n",
        "print(grade)"
      ],
      "metadata": {
        "id": "-1mGHV4vHIlU",
        "colab": {
          "base_uri": "https://localhost:8080/"
        },
        "outputId": "2bc72398-67dd-4aa7-d347-077fc59616f3"
      },
      "execution_count": 1,
      "outputs": [
        {
          "output_type": "stream",
          "name": "stdout",
          "text": [
            "나의 학번: \n",
            "20150001\n",
            "학년: \n",
            "1\n"
          ]
        }
      ]
    },
    {
      "cell_type": "code",
      "source": [
        "##2-9\n",
        "dollars = 2.75\n",
        "print('I have', dollars, 'in my account.')\n",
        "\n",
        "dollars = 99.95\n",
        "print('But now I have', dollars, 'in my account!')"
      ],
      "metadata": {
        "colab": {
          "base_uri": "https://localhost:8080/"
        },
        "id": "KXSmGDA0B_sa",
        "outputId": "96ec168b-634e-4814-b51b-78bef9889798"
      },
      "execution_count": 6,
      "outputs": [
        {
          "output_type": "stream",
          "name": "stdout",
          "text": [
            "I have 2.75 in my account.\n",
            "But now I have 99.95 in my account!\n"
          ]
        }
      ]
    },
    {
      "cell_type": "code",
      "source": [
        "##2-10\n",
        "department = \"국어국문학과\"\n",
        "name = '홍길동'\n",
        "print(department, name)\n"
      ],
      "metadata": {
        "colab": {
          "base_uri": "https://localhost:8080/"
        },
        "id": "piv3YYJHCCcQ",
        "outputId": "fcc851bd-3eb6-4c18-ed42-9b06acf7af83"
      },
      "execution_count": 7,
      "outputs": [
        {
          "output_type": "stream",
          "name": "stdout",
          "text": [
            "국어국문학과 홍길동\n"
          ]
        }
      ]
    },
    {
      "cell_type": "code",
      "source": [
        "##2-11\n",
        "department = input('학과명: ')\n",
        "name = input('성명 : ')\n",
        "print('안녕하세요',department,name)"
      ],
      "metadata": {
        "colab": {
          "base_uri": "https://localhost:8080/"
        },
        "id": "4iG86ZqXE-EW",
        "outputId": "32c7d950-36bc-4016-f2cd-00d1ecec5728"
      },
      "execution_count": 19,
      "outputs": [
        {
          "output_type": "stream",
          "name": "stdout",
          "text": [
            "학과명: 항공우주공학과\n",
            "성명 : 양원주\n",
            "안녕하세요 항공우주공학과 양원주\n"
          ]
        }
      ]
    },
    {
      "cell_type": "code",
      "source": [
        "##2-122\n",
        "name = input('당신의 이름은 무엇입니까? ')\n",
        "age = int(input('나이는 어떻게 되시나요? '))\n",
        "attending_time = float(input('통학시간은 얼마나 걸립니까? '))\n",
        "print('입력 정보는 다음과 같습니다.')\n",
        "print('이름:', name)\n",
        "print('나이:', age)\n",
        "print('통학시간:', attending_time)"
      ],
      "metadata": {
        "colab": {
          "base_uri": "https://localhost:8080/"
        },
        "id": "UZ_fzmJVCESZ",
        "outputId": "45ae1dcf-1b14-4fb7-be9a-1d56f068eb88"
      },
      "execution_count": 18,
      "outputs": [
        {
          "output_type": "stream",
          "name": "stdout",
          "text": [
            "당신의 이름은 무엇입니까? 양원주\n",
            "나이는 어떻게 되시나요? 5\n",
            "통학시간은 얼마나 걸립니까? 123\n",
            "입력 정보는 다음과 같습니다.\n",
            "이름: 양원주\n",
            "나이: 5\n",
            "통학시간: 123.0\n"
          ]
        }
      ]
    },
    {
      "cell_type": "code",
      "source": [
        "##2-13\n",
        "salary = 2500.0\n",
        "bonus = 1200.0\n",
        "pay = salary + bonus\n",
        "print('총 급여: ', pay)"
      ],
      "metadata": {
        "colab": {
          "base_uri": "https://localhost:8080/"
        },
        "id": "Qe0PfYMuEsyr",
        "outputId": "cca38539-9516-433e-a8f1-5514465217ab"
      },
      "execution_count": 17,
      "outputs": [
        {
          "output_type": "stream",
          "name": "stdout",
          "text": [
            "총 급여:  3700.0\n"
          ]
        }
      ]
    },
    {
      "cell_type": "code",
      "source": [
        "##2-14\n",
        "original_price=float(input(\"제품의 원가를 입력해주세요: \"))\n",
        "discount = original_price*0.2\n",
        "sale_price = original_price - discount\n",
        "print('할인가격: ',sale_price)"
      ],
      "metadata": {
        "colab": {
          "base_uri": "https://localhost:8080/"
        },
        "id": "gOdJOJ1mC_c4",
        "outputId": "9636fc89-e23c-48d1-ac84-28b568a337cf"
      },
      "execution_count": 11,
      "outputs": [
        {
          "output_type": "stream",
          "name": "stdout",
          "text": [
            "제품의 원가를 입력해주세요: 2444444\n",
            "할인가격:  1955555.2\n"
          ]
        }
      ]
    },
    {
      "cell_type": "code",
      "source": [
        "##2-15\n",
        "test1 = float(input(\"첫번째 과목 점수를 입력해주세요:\"))\n",
        "test2 = float(input(\"두번째 과목 점수를 입력해주세요:\"))\n",
        "test3 = float(input(\"세번째 과목 점수를 입력해주세요:\"))\n",
        "average = (test1+test2+test3)/3.0\n",
        "print('3과목의 평균 점수 : ',average)"
      ],
      "metadata": {
        "colab": {
          "base_uri": "https://localhost:8080/"
        },
        "id": "_gsMjFizDarf",
        "outputId": "b636eea4-acc3-45db-cc15-c470d25161f2"
      },
      "execution_count": 14,
      "outputs": [
        {
          "output_type": "stream",
          "name": "stdout",
          "text": [
            "첫번째 과목 점수를 입력해주세요:123\n",
            "두번째 과목 점수를 입력해주세요:233\n",
            "세번째 과목 점수를 입력해주세요:234\n",
            "3과목의 평균 점수 :  196.66666666666666\n"
          ]
        }
      ]
    },
    {
      "cell_type": "code",
      "source": [
        "##2-16\n",
        "total_seconds = float(input('시간 값을 초 단위로 입력해주세요: '))\n",
        "hours = total_seconds // 3600\n",
        "minutes = (total_seconds // 60)%60\n",
        "seconds = total_seconds % 60\n",
        "print('시 분 초는 다음과 같습니다.')\n",
        "print('시: ', hours)\n",
        "print('분: ', minutes)\n",
        "print('초: ', seconds)\n"
      ],
      "metadata": {
        "colab": {
          "base_uri": "https://localhost:8080/"
        },
        "id": "DI927h2iEBwx",
        "outputId": "fdc1c012-494d-4f8c-a808-b7ba95034c30"
      },
      "execution_count": 21,
      "outputs": [
        {
          "output_type": "stream",
          "name": "stdout",
          "text": [
            "시간 값을 초 단위로 입력해주세요: 123456\n",
            "시 분 초는 다음과 같습니다.\n",
            "시:  34.0\n",
            "분:  17.0\n",
            "초:  36.0\n"
          ]
        }
      ]
    },
    {
      "cell_type": "code",
      "source": [
        "##2-17\n",
        "future_value = float(input('목표 금액을 입력해주세요'))\n",
        "rate = float(input('연간 이율을 입력해주세요: '))\n",
        "years = int(input('저축 기간을 연 단위로 입력해주세요: '))\n",
        "present_value = future_value / (1.0 + rate)**years\n",
        "print('적립금액 : ',present_value)"
      ],
      "metadata": {
        "colab": {
          "base_uri": "https://localhost:8080/"
        },
        "id": "YuBV7LtAFgFi",
        "outputId": "3265948d-f450-4228-e55d-318398a8d68a"
      },
      "execution_count": 23,
      "outputs": [
        {
          "output_type": "stream",
          "name": "stdout",
          "text": [
            "목표 금액을 입력해주세요123456\n",
            "연간 이율을 입력해주세요: 0.3\n",
            "저축 기간을 연 단위로 입력해주세요: 20\n",
            "적립금액 :  649.5987125383208\n"
          ]
        }
      ]
    },
    {
      "cell_type": "code",
      "source": [
        "##2-18\n",
        "print('a','b','c')\n",
        "print('a','b','c',sep='')\n",
        "print('a','b','c',sep='***')"
      ],
      "metadata": {
        "colab": {
          "base_uri": "https://localhost:8080/"
        },
        "id": "yjdZ8zclGEO0",
        "outputId": "49fe6ef3-4f9b-40cf-88ec-1e1e60fac75c"
      },
      "execution_count": 25,
      "outputs": [
        {
          "output_type": "stream",
          "name": "stdout",
          "text": [
            "a b c\n",
            "abc\n",
            "a***b***c\n"
          ]
        }
      ]
    },
    {
      "cell_type": "code",
      "source": [
        "##2-19\n",
        "print('a')\n",
        "print('b')\n",
        "print('c', end='')\n",
        "print('d', end='')\n",
        "print('e', end='***')\n",
        "print('f')"
      ],
      "metadata": {
        "colab": {
          "base_uri": "https://localhost:8080/"
        },
        "id": "KOyXSZNiGuGR",
        "outputId": "63730c1a-fb24-4502-ec3b-baf9ddfb03d8"
      },
      "execution_count": 27,
      "outputs": [
        {
          "output_type": "stream",
          "name": "stdout",
          "text": [
            "a\n",
            "b\n",
            "cde***f\n"
          ]
        }
      ]
    },
    {
      "cell_type": "code",
      "source": [
        "##2-20\n",
        "amount_due = 5000.0\n",
        "monthly_payment = amount_due / 12.0\n",
        "print('월급여: ', monthly_payment)"
      ],
      "metadata": {
        "colab": {
          "base_uri": "https://localhost:8080/"
        },
        "id": "P2OUe6JeG4Q7",
        "outputId": "642258c6-2a2c-48f6-cf9b-f21e55e06153"
      },
      "execution_count": 29,
      "outputs": [
        {
          "output_type": "stream",
          "name": "stdout",
          "text": [
            "월급여:  416.6666666666667\n"
          ]
        }
      ]
    },
    {
      "cell_type": "code",
      "source": [
        "##2-21\n",
        "amount_due = 5000.0\n",
        "monthly_payment = amount_due / 12.0\n",
        "print('월급여: ',format(monthly_payment,'.2f'))"
      ],
      "metadata": {
        "colab": {
          "base_uri": "https://localhost:8080/"
        },
        "id": "NzSLCFkSG-tD",
        "outputId": "cf8e64a4-781d-4d6b-ae10-455e8d54def6"
      },
      "execution_count": 34,
      "outputs": [
        {
          "output_type": "stream",
          "name": "stdout",
          "text": [
            "월급여:  416.67\n"
          ]
        }
      ]
    },
    {
      "cell_type": "code",
      "source": [
        "##2-22\n",
        "monthly_pay = 5000.0\n",
        "annual_pay = monthly_pay * 12\n",
        "print('Your annual pay is $', format(annual_pay, ',.2f'),sep='')"
      ],
      "metadata": {
        "colab": {
          "base_uri": "https://localhost:8080/"
        },
        "id": "87truZnUHZep",
        "outputId": "863180ca-178b-440e-fb69-6712aafdbb6f"
      },
      "execution_count": 39,
      "outputs": [
        {
          "output_type": "stream",
          "name": "stdout",
          "text": [
            "Your annual pay is $60,000.00\n"
          ]
        }
      ]
    },
    {
      "cell_type": "code",
      "source": [
        "##2-23\n",
        "num1 = 127.899\n",
        "num2 = 3465.148\n",
        "num3 = 3.776\n",
        "num4 = 264.821\n",
        "num5 = 88.081\n",
        "num6 = 799.999\n",
        "\n",
        "print(format(num2, '7.2f'))\n",
        "print(format(num3, '7.2f'))\n",
        "print(format(num4, '7.2f'))\n",
        "print(format(num5, '7.2f'))\n",
        "print(format(num6, '7.2f'))"
      ],
      "metadata": {
        "colab": {
          "base_uri": "https://localhost:8080/"
        },
        "id": "RKfMn-LwH63T",
        "outputId": "5a3583b5-28d9-43ed-ef55-311510f81fb8"
      },
      "execution_count": 40,
      "outputs": [
        {
          "output_type": "stream",
          "name": "stdout",
          "text": [
            "3465.15\n",
            "   3.78\n",
            " 264.82\n",
            "  88.08\n",
            " 800.00\n"
          ]
        }
      ]
    }
  ]
}