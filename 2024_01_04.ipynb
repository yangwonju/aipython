{
  "nbformat": 4,
  "nbformat_minor": 0,
  "metadata": {
    "colab": {
      "provenance": [],
      "authorship_tag": "ABX9TyNqRcjpWAwRvFiciquJMr1e",
      "include_colab_link": true
    },
    "kernelspec": {
      "name": "python3",
      "display_name": "Python 3"
    },
    "language_info": {
      "name": "python"
    }
  },
  "cells": [
    {
      "cell_type": "markdown",
      "metadata": {
        "id": "view-in-github",
        "colab_type": "text"
      },
      "source": [
        "<a href=\"https://colab.research.google.com/github/yangwonju/aipython/blob/main/2024_01_04.ipynb\" target=\"_parent\"><img src=\"https://colab.research.google.com/assets/colab-badge.svg\" alt=\"Open In Colab\"/></a>"
      ]
    },
    {
      "cell_type": "code",
      "execution_count": null,
      "metadata": {
        "id": "FOlDDrNqbqk2"
      },
      "outputs": [],
      "source": [
        "\n",
        "scores = []\n",
        "\n",
        "\n",
        "while True:\n",
        "        score = input(\"학생의 점수를 입력하세요: \")\n",
        "\n",
        "        if score.isdigit():\n",
        "            score = int(score)\n",
        "            scores.append(score)\n",
        "        else:\n",
        "            break\n",
        "\n",
        "\n",
        "\n",
        "\n",
        "total_score = sum(scores)\n",
        "total_students = len(scores)\n",
        "average_score = total_score / total_students\n",
        "\n",
        "\n",
        "print(\"합계: {}\".format(total_score))\n",
        "print(\"총인원: {}\".format(total_students))\n",
        "print(\"평균: {:.2f}\".format(average_score))\n"
      ]
    }
  ]
}